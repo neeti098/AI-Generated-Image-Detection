{
  "nbformat": 4,
  "nbformat_minor": 0,
  "metadata": {
    "colab": {
      "provenance": []
    },
    "kernelspec": {
      "name": "python3",
      "display_name": "Python 3"
    },
    "language_info": {
      "name": "python"
    }
  },
  "cells": [
    {
      "cell_type": "code",
      "execution_count": null,
      "metadata": {
        "colab": {
          "base_uri": "https://localhost:8080/"
        },
        "id": "dmJwEf5lYZPv",
        "outputId": "77d0379e-a939-416a-bbfb-2c649320e681"
      },
      "outputs": [
        {
          "output_type": "stream",
          "name": "stdout",
          "text": [
            "Archive:  /content/drive/MyDrive/vlg_pro/Generative_AI_Dataset.zip\n",
            "  inflating: Dataset/solution_format.csv  \n",
            "  inflating: Dataset/test.csv        \n",
            "  inflating: Dataset/train.csv       \n"
          ]
        }
      ],
      "source": [
        "!unzip /content/drive/MyDrive/vlg_pro/Generative_AI_Dataset.zip"
      ]
    },
    {
      "cell_type": "code",
      "source": [
        "import pandas as pd"
      ],
      "metadata": {
        "id": "5oCy-6zzY_N5"
      },
      "execution_count": null,
      "outputs": []
    },
    {
      "cell_type": "code",
      "source": [
        "train_df = pd.read_csv('/content/Dataset/train.csv')"
      ],
      "metadata": {
        "id": "bbtlyjqZZA9A"
      },
      "execution_count": null,
      "outputs": []
    },
    {
      "cell_type": "code",
      "source": [
        "import torch\n",
        "from torch.utils.data import Dataset, DataLoader\n",
        "import numpy as np\n",
        "\n",
        "\n",
        "class CustomDataset(Dataset):\n",
        "    def __init__(self, csv_file):\n",
        "        self.data = csv_file\n",
        "        self.labels = self.data['labels']\n",
        "        self.features = self.data.drop('labels', axis=1)\n",
        "\n",
        "    def __len__(self):\n",
        "        return len(self.data)\n",
        "\n",
        "    def __getitem__(self, idx):\n",
        "        label = self.labels[idx]\n",
        "        features = self.features.iloc[idx].values.reshape((20, 20,3))\n",
        "        features = features.transpose((2,0,1))\n",
        "        sample = {'features': torch.Tensor(features), 'label': label}\n",
        "        return sample\n",
        "\n",
        "\n",
        "def custom_collate_fn(batch):\n",
        "    features = [item['features'] for item in batch]\n",
        "    labels = [item['label'] for item in batch]\n",
        "    features = torch.stack(features)\n",
        "    labels = torch.tensor(labels)\n",
        "    return {'features': features, 'labels': labels}\n",
        "\n",
        "\n",
        "dataset = CustomDataset(train_df)\n",
        "dataloader = DataLoader(dataset, batch_size=1, collate_fn=custom_collate_fn)"
      ],
      "metadata": {
        "id": "GCBInu5qYubO"
      },
      "execution_count": null,
      "outputs": []
    },
    {
      "cell_type": "code",
      "source": [
        "import torch.nn as nn\n",
        "import torchvision.models as models\n",
        "model = models.vgg16(pretrained=True)\n",
        "feature_extractor = nn.Sequential(*list(model.features.children())[:-1])\n",
        "\n"
      ],
      "metadata": {
        "colab": {
          "base_uri": "https://localhost:8080/"
        },
        "id": "zxOt6VWLZQFs",
        "outputId": "73192f33-3097-4956-d059-79a791145aa5"
      },
      "execution_count": null,
      "outputs": [
        {
          "output_type": "stream",
          "name": "stderr",
          "text": [
            "/usr/local/lib/python3.10/dist-packages/torchvision/models/_utils.py:208: UserWarning: The parameter 'pretrained' is deprecated since 0.13 and may be removed in the future, please use 'weights' instead.\n",
            "  warnings.warn(\n",
            "/usr/local/lib/python3.10/dist-packages/torchvision/models/_utils.py:223: UserWarning: Arguments other than a weight enum or `None` for 'weights' are deprecated since 0.13 and may be removed in the future. The current behavior is equivalent to passing `weights=VGG16_Weights.IMAGENET1K_V1`. You can also use `weights=VGG16_Weights.DEFAULT` to get the most up-to-date weights.\n",
            "  warnings.warn(msg)\n",
            "/usr/local/lib/python3.10/dist-packages/torchvision/models/_utils.py:223: UserWarning: Arguments other than a weight enum or `None` for 'weights' are deprecated since 0.13 and may be removed in the future. The current behavior is equivalent to passing `weights=ResNet18_Weights.IMAGENET1K_V1`. You can also use `weights=ResNet18_Weights.DEFAULT` to get the most up-to-date weights.\n",
            "  warnings.warn(msg)\n"
          ]
        }
      ]
    },
    {
      "cell_type": "code",
      "source": [
        "model2 = models.resnet18(pretrained=True)\n",
        "feature_extractor_2 = nn.Sequential(*list(model2.children())[:-1])"
      ],
      "metadata": {
        "id": "sKVK3SVtdqP8"
      },
      "execution_count": null,
      "outputs": []
    },
    {
      "cell_type": "code",
      "source": [
        "ext_f = []\n",
        "for batch in dataloader :\n",
        "  images = batch['features']\n",
        "  feature_extractor_2.eval()\n",
        "  feature_extractor.eval()\n",
        "  d=feature_extractor_2(images).detach().cpu().numpy().reshape(512)\n",
        "  #d2=feature_extractor(images).detach().cpu().numpy().reshape(512)\n",
        "  feat =d#np.concatenate((d, d2), axis=0)\n",
        "  ext_f.append(feat)"
      ],
      "metadata": {
        "id": "UmXya5q4an4b"
      },
      "execution_count": null,
      "outputs": []
    },
    {
      "cell_type": "code",
      "source": [
        "ext_df = pd.DataFrame(ext_f)\n",
        "ext_df.columns = ext_df.columns.astype(str)\n",
        "ext_df = pd.concat([ext_df,train_df.drop('labels',axis=1)],axis=1)\n",
        "ext_df.head()"
      ],
      "metadata": {
        "colab": {
          "base_uri": "https://localhost:8080/",
          "height": 299
        },
        "id": "V26FjZQDcuCM",
        "outputId": "1e19fe21-d2f1-4208-81fa-1fb0af8b316a"
      },
      "execution_count": null,
      "outputs": [
        {
          "output_type": "execute_result",
          "data": {
            "text/plain": [
              "          0         1         2         3         4    5         6         7  \\\n",
              "0  0.942797  1.349738  0.043392  0.927741  0.026253  0.0  0.313777  0.000000   \n",
              "1  0.461580  0.779857  0.351044  1.053287  0.195577  0.0  0.443317  0.065541   \n",
              "2  0.713785  0.724120  0.319372  1.355888  0.000000  0.0  0.339933  0.000000   \n",
              "3  0.784277  0.638512  0.000000  1.099986  0.072516  0.0  0.343079  0.000000   \n",
              "4  0.994810  0.930024  0.327882  0.277144  0.322679  0.0  0.580977  0.166276   \n",
              "\n",
              "          8    9  ...    f_1190    f_1191    f_1192    f_1193    f_1194  \\\n",
              "0  0.000000  0.0  ... -1.111266  0.716084  0.060039  0.301279 -1.174846   \n",
              "1  0.138443  0.0  ...  0.735240  0.829781  1.521941  1.347946  0.754505   \n",
              "2  0.281310  0.0  ...  0.104698  0.616189 -1.035953  2.111387 -0.984415   \n",
              "3  0.011497  0.0  ...  0.360237 -1.957863 -0.123384  1.505329  0.660290   \n",
              "4  0.062565  0.0  ...  0.416629  1.441766  0.212572 -0.994721  1.143999   \n",
              "\n",
              "     f_1195    f_1196    f_1197    f_1198    f_1199  \n",
              "0 -1.076498 -0.069452 -0.604012 -2.179176  0.558003  \n",
              "1  1.330642 -0.754453  0.582956  0.252671  1.495870  \n",
              "2  1.148076 -1.433554  0.243372  0.170083  1.274795  \n",
              "3 -1.769443 -0.547756 -0.568122  0.244645  0.982116  \n",
              "4 -2.166923 -1.199248 -1.028636  0.752791  0.317169  \n",
              "\n",
              "[5 rows x 1712 columns]"
            ],
            "text/html": [
              "\n",
              "  <div id=\"df-612d2357-63b4-4958-bc4e-7a21de7c18fe\">\n",
              "    <div class=\"colab-df-container\">\n",
              "      <div>\n",
              "<style scoped>\n",
              "    .dataframe tbody tr th:only-of-type {\n",
              "        vertical-align: middle;\n",
              "    }\n",
              "\n",
              "    .dataframe tbody tr th {\n",
              "        vertical-align: top;\n",
              "    }\n",
              "\n",
              "    .dataframe thead th {\n",
              "        text-align: right;\n",
              "    }\n",
              "</style>\n",
              "<table border=\"1\" class=\"dataframe\">\n",
              "  <thead>\n",
              "    <tr style=\"text-align: right;\">\n",
              "      <th></th>\n",
              "      <th>0</th>\n",
              "      <th>1</th>\n",
              "      <th>2</th>\n",
              "      <th>3</th>\n",
              "      <th>4</th>\n",
              "      <th>5</th>\n",
              "      <th>6</th>\n",
              "      <th>7</th>\n",
              "      <th>8</th>\n",
              "      <th>9</th>\n",
              "      <th>...</th>\n",
              "      <th>f_1190</th>\n",
              "      <th>f_1191</th>\n",
              "      <th>f_1192</th>\n",
              "      <th>f_1193</th>\n",
              "      <th>f_1194</th>\n",
              "      <th>f_1195</th>\n",
              "      <th>f_1196</th>\n",
              "      <th>f_1197</th>\n",
              "      <th>f_1198</th>\n",
              "      <th>f_1199</th>\n",
              "    </tr>\n",
              "  </thead>\n",
              "  <tbody>\n",
              "    <tr>\n",
              "      <th>0</th>\n",
              "      <td>0.942797</td>\n",
              "      <td>1.349738</td>\n",
              "      <td>0.043392</td>\n",
              "      <td>0.927741</td>\n",
              "      <td>0.026253</td>\n",
              "      <td>0.0</td>\n",
              "      <td>0.313777</td>\n",
              "      <td>0.000000</td>\n",
              "      <td>0.000000</td>\n",
              "      <td>0.0</td>\n",
              "      <td>...</td>\n",
              "      <td>-1.111266</td>\n",
              "      <td>0.716084</td>\n",
              "      <td>0.060039</td>\n",
              "      <td>0.301279</td>\n",
              "      <td>-1.174846</td>\n",
              "      <td>-1.076498</td>\n",
              "      <td>-0.069452</td>\n",
              "      <td>-0.604012</td>\n",
              "      <td>-2.179176</td>\n",
              "      <td>0.558003</td>\n",
              "    </tr>\n",
              "    <tr>\n",
              "      <th>1</th>\n",
              "      <td>0.461580</td>\n",
              "      <td>0.779857</td>\n",
              "      <td>0.351044</td>\n",
              "      <td>1.053287</td>\n",
              "      <td>0.195577</td>\n",
              "      <td>0.0</td>\n",
              "      <td>0.443317</td>\n",
              "      <td>0.065541</td>\n",
              "      <td>0.138443</td>\n",
              "      <td>0.0</td>\n",
              "      <td>...</td>\n",
              "      <td>0.735240</td>\n",
              "      <td>0.829781</td>\n",
              "      <td>1.521941</td>\n",
              "      <td>1.347946</td>\n",
              "      <td>0.754505</td>\n",
              "      <td>1.330642</td>\n",
              "      <td>-0.754453</td>\n",
              "      <td>0.582956</td>\n",
              "      <td>0.252671</td>\n",
              "      <td>1.495870</td>\n",
              "    </tr>\n",
              "    <tr>\n",
              "      <th>2</th>\n",
              "      <td>0.713785</td>\n",
              "      <td>0.724120</td>\n",
              "      <td>0.319372</td>\n",
              "      <td>1.355888</td>\n",
              "      <td>0.000000</td>\n",
              "      <td>0.0</td>\n",
              "      <td>0.339933</td>\n",
              "      <td>0.000000</td>\n",
              "      <td>0.281310</td>\n",
              "      <td>0.0</td>\n",
              "      <td>...</td>\n",
              "      <td>0.104698</td>\n",
              "      <td>0.616189</td>\n",
              "      <td>-1.035953</td>\n",
              "      <td>2.111387</td>\n",
              "      <td>-0.984415</td>\n",
              "      <td>1.148076</td>\n",
              "      <td>-1.433554</td>\n",
              "      <td>0.243372</td>\n",
              "      <td>0.170083</td>\n",
              "      <td>1.274795</td>\n",
              "    </tr>\n",
              "    <tr>\n",
              "      <th>3</th>\n",
              "      <td>0.784277</td>\n",
              "      <td>0.638512</td>\n",
              "      <td>0.000000</td>\n",
              "      <td>1.099986</td>\n",
              "      <td>0.072516</td>\n",
              "      <td>0.0</td>\n",
              "      <td>0.343079</td>\n",
              "      <td>0.000000</td>\n",
              "      <td>0.011497</td>\n",
              "      <td>0.0</td>\n",
              "      <td>...</td>\n",
              "      <td>0.360237</td>\n",
              "      <td>-1.957863</td>\n",
              "      <td>-0.123384</td>\n",
              "      <td>1.505329</td>\n",
              "      <td>0.660290</td>\n",
              "      <td>-1.769443</td>\n",
              "      <td>-0.547756</td>\n",
              "      <td>-0.568122</td>\n",
              "      <td>0.244645</td>\n",
              "      <td>0.982116</td>\n",
              "    </tr>\n",
              "    <tr>\n",
              "      <th>4</th>\n",
              "      <td>0.994810</td>\n",
              "      <td>0.930024</td>\n",
              "      <td>0.327882</td>\n",
              "      <td>0.277144</td>\n",
              "      <td>0.322679</td>\n",
              "      <td>0.0</td>\n",
              "      <td>0.580977</td>\n",
              "      <td>0.166276</td>\n",
              "      <td>0.062565</td>\n",
              "      <td>0.0</td>\n",
              "      <td>...</td>\n",
              "      <td>0.416629</td>\n",
              "      <td>1.441766</td>\n",
              "      <td>0.212572</td>\n",
              "      <td>-0.994721</td>\n",
              "      <td>1.143999</td>\n",
              "      <td>-2.166923</td>\n",
              "      <td>-1.199248</td>\n",
              "      <td>-1.028636</td>\n",
              "      <td>0.752791</td>\n",
              "      <td>0.317169</td>\n",
              "    </tr>\n",
              "  </tbody>\n",
              "</table>\n",
              "<p>5 rows × 1712 columns</p>\n",
              "</div>\n",
              "      <button class=\"colab-df-convert\" onclick=\"convertToInteractive('df-612d2357-63b4-4958-bc4e-7a21de7c18fe')\"\n",
              "              title=\"Convert this dataframe to an interactive table.\"\n",
              "              style=\"display:none;\">\n",
              "        \n",
              "  <svg xmlns=\"http://www.w3.org/2000/svg\" height=\"24px\"viewBox=\"0 0 24 24\"\n",
              "       width=\"24px\">\n",
              "    <path d=\"M0 0h24v24H0V0z\" fill=\"none\"/>\n",
              "    <path d=\"M18.56 5.44l.94 2.06.94-2.06 2.06-.94-2.06-.94-.94-2.06-.94 2.06-2.06.94zm-11 1L8.5 8.5l.94-2.06 2.06-.94-2.06-.94L8.5 2.5l-.94 2.06-2.06.94zm10 10l.94 2.06.94-2.06 2.06-.94-2.06-.94-.94-2.06-.94 2.06-2.06.94z\"/><path d=\"M17.41 7.96l-1.37-1.37c-.4-.4-.92-.59-1.43-.59-.52 0-1.04.2-1.43.59L10.3 9.45l-7.72 7.72c-.78.78-.78 2.05 0 2.83L4 21.41c.39.39.9.59 1.41.59.51 0 1.02-.2 1.41-.59l7.78-7.78 2.81-2.81c.8-.78.8-2.07 0-2.86zM5.41 20L4 18.59l7.72-7.72 1.47 1.35L5.41 20z\"/>\n",
              "  </svg>\n",
              "      </button>\n",
              "      \n",
              "  <style>\n",
              "    .colab-df-container {\n",
              "      display:flex;\n",
              "      flex-wrap:wrap;\n",
              "      gap: 12px;\n",
              "    }\n",
              "\n",
              "    .colab-df-convert {\n",
              "      background-color: #E8F0FE;\n",
              "      border: none;\n",
              "      border-radius: 50%;\n",
              "      cursor: pointer;\n",
              "      display: none;\n",
              "      fill: #1967D2;\n",
              "      height: 32px;\n",
              "      padding: 0 0 0 0;\n",
              "      width: 32px;\n",
              "    }\n",
              "\n",
              "    .colab-df-convert:hover {\n",
              "      background-color: #E2EBFA;\n",
              "      box-shadow: 0px 1px 2px rgba(60, 64, 67, 0.3), 0px 1px 3px 1px rgba(60, 64, 67, 0.15);\n",
              "      fill: #174EA6;\n",
              "    }\n",
              "\n",
              "    [theme=dark] .colab-df-convert {\n",
              "      background-color: #3B4455;\n",
              "      fill: #D2E3FC;\n",
              "    }\n",
              "\n",
              "    [theme=dark] .colab-df-convert:hover {\n",
              "      background-color: #434B5C;\n",
              "      box-shadow: 0px 1px 3px 1px rgba(0, 0, 0, 0.15);\n",
              "      filter: drop-shadow(0px 1px 2px rgba(0, 0, 0, 0.3));\n",
              "      fill: #FFFFFF;\n",
              "    }\n",
              "  </style>\n",
              "\n",
              "      <script>\n",
              "        const buttonEl =\n",
              "          document.querySelector('#df-612d2357-63b4-4958-bc4e-7a21de7c18fe button.colab-df-convert');\n",
              "        buttonEl.style.display =\n",
              "          google.colab.kernel.accessAllowed ? 'block' : 'none';\n",
              "\n",
              "        async function convertToInteractive(key) {\n",
              "          const element = document.querySelector('#df-612d2357-63b4-4958-bc4e-7a21de7c18fe');\n",
              "          const dataTable =\n",
              "            await google.colab.kernel.invokeFunction('convertToInteractive',\n",
              "                                                     [key], {});\n",
              "          if (!dataTable) return;\n",
              "\n",
              "          const docLinkHtml = 'Like what you see? Visit the ' +\n",
              "            '<a target=\"_blank\" href=https://colab.research.google.com/notebooks/data_table.ipynb>data table notebook</a>'\n",
              "            + ' to learn more about interactive tables.';\n",
              "          element.innerHTML = '';\n",
              "          dataTable['output_type'] = 'display_data';\n",
              "          await google.colab.output.renderOutput(dataTable, element);\n",
              "          const docLink = document.createElement('div');\n",
              "          docLink.innerHTML = docLinkHtml;\n",
              "          element.appendChild(docLink);\n",
              "        }\n",
              "      </script>\n",
              "    </div>\n",
              "  </div>\n",
              "  "
            ]
          },
          "metadata": {},
          "execution_count": 70
        }
      ]
    },
    {
      "cell_type": "code",
      "source": [
        "from sklearn.neighbors import KNeighborsClassifier\n",
        "from sklearn.model_selection import train_test_split\n",
        "from sklearn.metrics import accuracy_score, f1_score"
      ],
      "metadata": {
        "id": "G3akaFhLfnzy"
      },
      "execution_count": null,
      "outputs": []
    },
    {
      "cell_type": "code",
      "source": [
        "knn = KNeighborsClassifier(n_neighbors= 7, p= 1, weights= 'uniform')"
      ],
      "metadata": {
        "id": "2djz7dvof6I-"
      },
      "execution_count": null,
      "outputs": []
    },
    {
      "cell_type": "code",
      "source": [
        "X_train, X_test, y_train, y_test = train_test_split(ext_df, train_df['labels'], test_size=0.2, random_state=42)\n"
      ],
      "metadata": {
        "id": "t7Xnq0Hkf9v7"
      },
      "execution_count": null,
      "outputs": []
    },
    {
      "cell_type": "code",
      "source": [
        "knn.fit(ext_df,train_df['labels'])\n",
        "knn.score(X_test,y_test)"
      ],
      "metadata": {
        "colab": {
          "base_uri": "https://localhost:8080/"
        },
        "id": "da3cQdc_gD14",
        "outputId": "3a937775-c46e-4c1e-930b-2ea6abcb079f"
      },
      "execution_count": null,
      "outputs": [
        {
          "output_type": "execute_result",
          "data": {
            "text/plain": [
              "0.9133333333333333"
            ]
          },
          "metadata": {},
          "execution_count": 83
        }
      ]
    },
    {
      "cell_type": "code",
      "source": [
        "pred = knn.predict(X_test)\n",
        "f1_score(y_test,pred)"
      ],
      "metadata": {
        "colab": {
          "base_uri": "https://localhost:8080/"
        },
        "id": "2cxw4jxIgLnC",
        "outputId": "cc4518af-bc6b-4646-d74c-a9668ba2edea"
      },
      "execution_count": null,
      "outputs": [
        {
          "output_type": "execute_result",
          "data": {
            "text/plain": [
              "0.8253358925143953"
            ]
          },
          "metadata": {},
          "execution_count": 84
        }
      ]
    },
    {
      "cell_type": "code",
      "source": [
        "test_df = pd.read_csv('/content/Dataset/test.csv')\n",
        "test=test_df.drop('id',axis=1)\n",
        "class TestCustomDataset(Dataset):\n",
        "    def __init__(self, csv_file):\n",
        "        self.data = csv_file\n",
        "        self.features = self.data\n",
        "\n",
        "    def __len__(self):\n",
        "        return len(self.data)\n",
        "    def __getitem__(self, idx):\n",
        "        features = self.features.iloc[idx].values.reshape((3,20, 20))\n",
        "        sample = {'features': torch.Tensor(features)}\n",
        "        return sample\n",
        "\n",
        "\n",
        "def custom_collate_fn(batch):\n",
        "    features = [item['features'] for item in batch]\n",
        "    features = torch.stack(features)\n",
        "    return {'features': features}\n",
        "test_dataset = TestCustomDataset(test)\n",
        "test_dataloader = DataLoader(test_dataset, batch_size=1, collate_fn=custom_collate_fn)"
      ],
      "metadata": {
        "id": "-wpOB1glgP0r"
      },
      "execution_count": null,
      "outputs": []
    },
    {
      "cell_type": "code",
      "source": [
        "t_ext_f = []\n",
        "for batch in test_dataloader:\n",
        "  images = batch['features']\n",
        "  feature_extractor_2.eval()\n",
        "  feature_extractor.eval()\n",
        "  d=feature_extractor_2(images).detach().cpu().numpy().reshape(512)\n",
        "  #d2=feature_extractor(images).detach().cpu().numpy().reshape(512)\n",
        "  feat =d#np.concatenate((d, d2), axis=0)\n",
        "  t_ext_f.append(feat)"
      ],
      "metadata": {
        "id": "ZDLpMVOKhD3l"
      },
      "execution_count": null,
      "outputs": []
    },
    {
      "cell_type": "code",
      "source": [
        "t_ext_df = pd.DataFrame(t_ext_f)\n",
        "t_ext_df.columns = t_ext_df.columns.astype(str)\n",
        "t_ext_df = pd.concat([t_ext_df,test_df.drop('id',axis=1)],axis=1)\n",
        "t_ext_df.head()"
      ],
      "metadata": {
        "colab": {
          "base_uri": "https://localhost:8080/",
          "height": 299
        },
        "id": "nM8J167xhaGK",
        "outputId": "dd6bf45f-7c7f-4ffd-a866-2632a0c12fa2"
      },
      "execution_count": null,
      "outputs": [
        {
          "output_type": "execute_result",
          "data": {
            "text/plain": [
              "          0         1         2         3         4    5         6         7  \\\n",
              "0  1.000861  2.009952  0.317756  0.866879  0.358176  0.0  0.819393  0.000000   \n",
              "1  0.757142  0.942584  0.117522  1.147421  0.126367  0.0  0.363663  0.000000   \n",
              "2  0.963658  0.884242  0.000000  0.429560  0.415525  0.0  0.494465  0.000000   \n",
              "3  0.887752  0.244355  0.000000  0.585474  0.253120  0.0  0.449613  0.089257   \n",
              "4  0.757546  0.991289  0.195527  1.102310  0.102083  0.0  0.520727  0.232494   \n",
              "\n",
              "          8    9  ...    f_1190    f_1191    f_1192    f_1193    f_1194  \\\n",
              "0  0.011622  0.0  ... -0.776403 -0.662884 -0.257091 -1.168413  0.223260   \n",
              "1  0.000000  0.0  ...  0.379635 -1.760084  1.125450 -0.328047 -0.880305   \n",
              "2  0.128982  0.0  ...  1.165254 -1.373589 -0.483701 -0.964782 -0.869555   \n",
              "3  0.087119  0.0  ... -0.442288 -2.794472 -0.763468 -0.789832 -0.113209   \n",
              "4  0.064232  0.0  ... -2.624450 -3.200223  0.711422 -0.190394  0.337224   \n",
              "\n",
              "     f_1195    f_1196    f_1197    f_1198    f_1199  \n",
              "0 -0.482520 -0.085453 -0.382265 -0.539349 -1.682404  \n",
              "1 -1.257607  0.964312  2.021104  0.655021 -0.423029  \n",
              "2  0.066040 -0.444567 -0.531935 -0.878660  1.099488  \n",
              "3 -2.703150 -2.058728  1.070627 -0.458045 -0.435825  \n",
              "4 -1.656639  0.707360 -0.562290  1.471181 -0.192000  \n",
              "\n",
              "[5 rows x 1712 columns]"
            ],
            "text/html": [
              "\n",
              "  <div id=\"df-694a9a29-8938-4fda-b930-c0d47d0f2603\">\n",
              "    <div class=\"colab-df-container\">\n",
              "      <div>\n",
              "<style scoped>\n",
              "    .dataframe tbody tr th:only-of-type {\n",
              "        vertical-align: middle;\n",
              "    }\n",
              "\n",
              "    .dataframe tbody tr th {\n",
              "        vertical-align: top;\n",
              "    }\n",
              "\n",
              "    .dataframe thead th {\n",
              "        text-align: right;\n",
              "    }\n",
              "</style>\n",
              "<table border=\"1\" class=\"dataframe\">\n",
              "  <thead>\n",
              "    <tr style=\"text-align: right;\">\n",
              "      <th></th>\n",
              "      <th>0</th>\n",
              "      <th>1</th>\n",
              "      <th>2</th>\n",
              "      <th>3</th>\n",
              "      <th>4</th>\n",
              "      <th>5</th>\n",
              "      <th>6</th>\n",
              "      <th>7</th>\n",
              "      <th>8</th>\n",
              "      <th>9</th>\n",
              "      <th>...</th>\n",
              "      <th>f_1190</th>\n",
              "      <th>f_1191</th>\n",
              "      <th>f_1192</th>\n",
              "      <th>f_1193</th>\n",
              "      <th>f_1194</th>\n",
              "      <th>f_1195</th>\n",
              "      <th>f_1196</th>\n",
              "      <th>f_1197</th>\n",
              "      <th>f_1198</th>\n",
              "      <th>f_1199</th>\n",
              "    </tr>\n",
              "  </thead>\n",
              "  <tbody>\n",
              "    <tr>\n",
              "      <th>0</th>\n",
              "      <td>1.000861</td>\n",
              "      <td>2.009952</td>\n",
              "      <td>0.317756</td>\n",
              "      <td>0.866879</td>\n",
              "      <td>0.358176</td>\n",
              "      <td>0.0</td>\n",
              "      <td>0.819393</td>\n",
              "      <td>0.000000</td>\n",
              "      <td>0.011622</td>\n",
              "      <td>0.0</td>\n",
              "      <td>...</td>\n",
              "      <td>-0.776403</td>\n",
              "      <td>-0.662884</td>\n",
              "      <td>-0.257091</td>\n",
              "      <td>-1.168413</td>\n",
              "      <td>0.223260</td>\n",
              "      <td>-0.482520</td>\n",
              "      <td>-0.085453</td>\n",
              "      <td>-0.382265</td>\n",
              "      <td>-0.539349</td>\n",
              "      <td>-1.682404</td>\n",
              "    </tr>\n",
              "    <tr>\n",
              "      <th>1</th>\n",
              "      <td>0.757142</td>\n",
              "      <td>0.942584</td>\n",
              "      <td>0.117522</td>\n",
              "      <td>1.147421</td>\n",
              "      <td>0.126367</td>\n",
              "      <td>0.0</td>\n",
              "      <td>0.363663</td>\n",
              "      <td>0.000000</td>\n",
              "      <td>0.000000</td>\n",
              "      <td>0.0</td>\n",
              "      <td>...</td>\n",
              "      <td>0.379635</td>\n",
              "      <td>-1.760084</td>\n",
              "      <td>1.125450</td>\n",
              "      <td>-0.328047</td>\n",
              "      <td>-0.880305</td>\n",
              "      <td>-1.257607</td>\n",
              "      <td>0.964312</td>\n",
              "      <td>2.021104</td>\n",
              "      <td>0.655021</td>\n",
              "      <td>-0.423029</td>\n",
              "    </tr>\n",
              "    <tr>\n",
              "      <th>2</th>\n",
              "      <td>0.963658</td>\n",
              "      <td>0.884242</td>\n",
              "      <td>0.000000</td>\n",
              "      <td>0.429560</td>\n",
              "      <td>0.415525</td>\n",
              "      <td>0.0</td>\n",
              "      <td>0.494465</td>\n",
              "      <td>0.000000</td>\n",
              "      <td>0.128982</td>\n",
              "      <td>0.0</td>\n",
              "      <td>...</td>\n",
              "      <td>1.165254</td>\n",
              "      <td>-1.373589</td>\n",
              "      <td>-0.483701</td>\n",
              "      <td>-0.964782</td>\n",
              "      <td>-0.869555</td>\n",
              "      <td>0.066040</td>\n",
              "      <td>-0.444567</td>\n",
              "      <td>-0.531935</td>\n",
              "      <td>-0.878660</td>\n",
              "      <td>1.099488</td>\n",
              "    </tr>\n",
              "    <tr>\n",
              "      <th>3</th>\n",
              "      <td>0.887752</td>\n",
              "      <td>0.244355</td>\n",
              "      <td>0.000000</td>\n",
              "      <td>0.585474</td>\n",
              "      <td>0.253120</td>\n",
              "      <td>0.0</td>\n",
              "      <td>0.449613</td>\n",
              "      <td>0.089257</td>\n",
              "      <td>0.087119</td>\n",
              "      <td>0.0</td>\n",
              "      <td>...</td>\n",
              "      <td>-0.442288</td>\n",
              "      <td>-2.794472</td>\n",
              "      <td>-0.763468</td>\n",
              "      <td>-0.789832</td>\n",
              "      <td>-0.113209</td>\n",
              "      <td>-2.703150</td>\n",
              "      <td>-2.058728</td>\n",
              "      <td>1.070627</td>\n",
              "      <td>-0.458045</td>\n",
              "      <td>-0.435825</td>\n",
              "    </tr>\n",
              "    <tr>\n",
              "      <th>4</th>\n",
              "      <td>0.757546</td>\n",
              "      <td>0.991289</td>\n",
              "      <td>0.195527</td>\n",
              "      <td>1.102310</td>\n",
              "      <td>0.102083</td>\n",
              "      <td>0.0</td>\n",
              "      <td>0.520727</td>\n",
              "      <td>0.232494</td>\n",
              "      <td>0.064232</td>\n",
              "      <td>0.0</td>\n",
              "      <td>...</td>\n",
              "      <td>-2.624450</td>\n",
              "      <td>-3.200223</td>\n",
              "      <td>0.711422</td>\n",
              "      <td>-0.190394</td>\n",
              "      <td>0.337224</td>\n",
              "      <td>-1.656639</td>\n",
              "      <td>0.707360</td>\n",
              "      <td>-0.562290</td>\n",
              "      <td>1.471181</td>\n",
              "      <td>-0.192000</td>\n",
              "    </tr>\n",
              "  </tbody>\n",
              "</table>\n",
              "<p>5 rows × 1712 columns</p>\n",
              "</div>\n",
              "      <button class=\"colab-df-convert\" onclick=\"convertToInteractive('df-694a9a29-8938-4fda-b930-c0d47d0f2603')\"\n",
              "              title=\"Convert this dataframe to an interactive table.\"\n",
              "              style=\"display:none;\">\n",
              "        \n",
              "  <svg xmlns=\"http://www.w3.org/2000/svg\" height=\"24px\"viewBox=\"0 0 24 24\"\n",
              "       width=\"24px\">\n",
              "    <path d=\"M0 0h24v24H0V0z\" fill=\"none\"/>\n",
              "    <path d=\"M18.56 5.44l.94 2.06.94-2.06 2.06-.94-2.06-.94-.94-2.06-.94 2.06-2.06.94zm-11 1L8.5 8.5l.94-2.06 2.06-.94-2.06-.94L8.5 2.5l-.94 2.06-2.06.94zm10 10l.94 2.06.94-2.06 2.06-.94-2.06-.94-.94-2.06-.94 2.06-2.06.94z\"/><path d=\"M17.41 7.96l-1.37-1.37c-.4-.4-.92-.59-1.43-.59-.52 0-1.04.2-1.43.59L10.3 9.45l-7.72 7.72c-.78.78-.78 2.05 0 2.83L4 21.41c.39.39.9.59 1.41.59.51 0 1.02-.2 1.41-.59l7.78-7.78 2.81-2.81c.8-.78.8-2.07 0-2.86zM5.41 20L4 18.59l7.72-7.72 1.47 1.35L5.41 20z\"/>\n",
              "  </svg>\n",
              "      </button>\n",
              "      \n",
              "  <style>\n",
              "    .colab-df-container {\n",
              "      display:flex;\n",
              "      flex-wrap:wrap;\n",
              "      gap: 12px;\n",
              "    }\n",
              "\n",
              "    .colab-df-convert {\n",
              "      background-color: #E8F0FE;\n",
              "      border: none;\n",
              "      border-radius: 50%;\n",
              "      cursor: pointer;\n",
              "      display: none;\n",
              "      fill: #1967D2;\n",
              "      height: 32px;\n",
              "      padding: 0 0 0 0;\n",
              "      width: 32px;\n",
              "    }\n",
              "\n",
              "    .colab-df-convert:hover {\n",
              "      background-color: #E2EBFA;\n",
              "      box-shadow: 0px 1px 2px rgba(60, 64, 67, 0.3), 0px 1px 3px 1px rgba(60, 64, 67, 0.15);\n",
              "      fill: #174EA6;\n",
              "    }\n",
              "\n",
              "    [theme=dark] .colab-df-convert {\n",
              "      background-color: #3B4455;\n",
              "      fill: #D2E3FC;\n",
              "    }\n",
              "\n",
              "    [theme=dark] .colab-df-convert:hover {\n",
              "      background-color: #434B5C;\n",
              "      box-shadow: 0px 1px 3px 1px rgba(0, 0, 0, 0.15);\n",
              "      filter: drop-shadow(0px 1px 2px rgba(0, 0, 0, 0.3));\n",
              "      fill: #FFFFFF;\n",
              "    }\n",
              "  </style>\n",
              "\n",
              "      <script>\n",
              "        const buttonEl =\n",
              "          document.querySelector('#df-694a9a29-8938-4fda-b930-c0d47d0f2603 button.colab-df-convert');\n",
              "        buttonEl.style.display =\n",
              "          google.colab.kernel.accessAllowed ? 'block' : 'none';\n",
              "\n",
              "        async function convertToInteractive(key) {\n",
              "          const element = document.querySelector('#df-694a9a29-8938-4fda-b930-c0d47d0f2603');\n",
              "          const dataTable =\n",
              "            await google.colab.kernel.invokeFunction('convertToInteractive',\n",
              "                                                     [key], {});\n",
              "          if (!dataTable) return;\n",
              "\n",
              "          const docLinkHtml = 'Like what you see? Visit the ' +\n",
              "            '<a target=\"_blank\" href=https://colab.research.google.com/notebooks/data_table.ipynb>data table notebook</a>'\n",
              "            + ' to learn more about interactive tables.';\n",
              "          element.innerHTML = '';\n",
              "          dataTable['output_type'] = 'display_data';\n",
              "          await google.colab.output.renderOutput(dataTable, element);\n",
              "          const docLink = document.createElement('div');\n",
              "          docLink.innerHTML = docLinkHtml;\n",
              "          element.appendChild(docLink);\n",
              "        }\n",
              "      </script>\n",
              "    </div>\n",
              "  </div>\n",
              "  "
            ]
          },
          "metadata": {},
          "execution_count": 78
        }
      ]
    },
    {
      "cell_type": "code",
      "source": [
        "pred = knn.predict(t_ext_df)\n",
        "pred.mean()"
      ],
      "metadata": {
        "colab": {
          "base_uri": "https://localhost:8080/"
        },
        "id": "3pZfXGfOhsAA",
        "outputId": "5a7bab0e-7780-4eb9-d277-8eaeffae9ce1"
      },
      "execution_count": null,
      "outputs": [
        {
          "output_type": "execute_result",
          "data": {
            "text/plain": [
              "0.24977777777777777"
            ]
          },
          "metadata": {},
          "execution_count": 85
        }
      ]
    },
    {
      "cell_type": "code",
      "source": [
        "sub=pd.DataFrame([])\n",
        "sub['id']=test_df['id']\n",
        "sub['labels']=pred"
      ],
      "metadata": {
        "id": "CEQEs8WSh8ee"
      },
      "execution_count": null,
      "outputs": []
    },
    {
      "cell_type": "code",
      "source": [
        "sub.to_csv('knn_sub9.csv',index=False)\n"
      ],
      "metadata": {
        "id": "Z8zO3PhKiG2o"
      },
      "execution_count": null,
      "outputs": []
    },
    {
      "cell_type": "code",
      "source": [],
      "metadata": {
        "id": "-iTyNKYgiJyS"
      },
      "execution_count": null,
      "outputs": []
    }
  ]
}